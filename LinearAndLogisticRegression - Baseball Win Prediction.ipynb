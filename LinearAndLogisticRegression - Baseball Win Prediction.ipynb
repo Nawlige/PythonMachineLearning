{
 "cells": [
  {
   "cell_type": "code",
   "execution_count": 1,
   "metadata": {},
   "outputs": [],
   "source": [
    "# Import the necessary libraries\n",
    "import pandas as pd\n",
    "import numpy as np\n",
    "from sklearn import linear_model\n",
    "from scipy import stats\n",
    "import matplotlib.pyplot as plt\n",
    "%matplotlib inline"
   ]
  },
  {
   "cell_type": "code",
   "execution_count": 2,
   "metadata": {},
   "outputs": [],
   "source": [
    "# Linear regression: the algorithm determines the parameters of an assumed linear relationship\n",
    "# between the responsible variable 'Y' and the explantory variable 'X' in the form of\n",
    "# Y = aX + b, where a & b are scalars.\n",
    "# Y & X are multidemensional, a is a matrix and b is a vector\n",
    "# the goal of the algorithm is to identify the optimal values for the parameters a & b \n",
    "# to minimize the mean squared error between the model estimates and the training set data\n",
    "# Hopefully the model will help predict the values of 'Y' given the future values of 'X'"
   ]
  },
  {
   "cell_type": "code",
   "execution_count": 3,
   "metadata": {},
   "outputs": [],
   "source": [
    "# Read 2015 game log data into Pandas DataFrame\n",
    "input_df = pd.read_table('GL2015.TXT', sep=',', header=None)"
   ]
  },
  {
   "cell_type": "code",
   "execution_count": 12,
   "metadata": {},
   "outputs": [],
   "source": [
    "# Prep read in data \n",
    "# Create a method to Add column headers to the the DataFrame \n",
    "\n",
    "def rename_col(input_df):\n",
    "    input_df.rename(columns = {2:'DayOfWeek' , 3:'Visiting Team', 4:'VisitorTeam League', 6: 'Home Team', \n",
    "                               7:'HomeTeam League', 9:'Runs Visitor', 10:'Runs Home'}, inplace=True)\n",
    "    return input_df"
   ]
  },
  {
   "cell_type": "code",
   "execution_count": 13,
   "metadata": {},
   "outputs": [],
   "source": [
    "# Now using that method we can add column headers and check values\n",
    "input_df = rename_col(input_df)"
   ]
  },
  {
   "cell_type": "code",
   "execution_count": 14,
   "metadata": {},
   "outputs": [
    {
     "data": {
      "text/html": [
       "<div>\n",
       "<style scoped>\n",
       "    .dataframe tbody tr th:only-of-type {\n",
       "        vertical-align: middle;\n",
       "    }\n",
       "\n",
       "    .dataframe tbody tr th {\n",
       "        vertical-align: top;\n",
       "    }\n",
       "\n",
       "    .dataframe thead th {\n",
       "        text-align: right;\n",
       "    }\n",
       "</style>\n",
       "<table border=\"1\" class=\"dataframe\">\n",
       "  <thead>\n",
       "    <tr style=\"text-align: right;\">\n",
       "      <th></th>\n",
       "      <th>0</th>\n",
       "      <th>1</th>\n",
       "      <th>DayOfWeek</th>\n",
       "      <th>Visiting Team</th>\n",
       "      <th>VisitorTeam League</th>\n",
       "      <th>5</th>\n",
       "      <th>Home Team</th>\n",
       "      <th>HomeTeam League</th>\n",
       "      <th>8</th>\n",
       "      <th>Runs Visitor</th>\n",
       "      <th>...</th>\n",
       "      <th>151</th>\n",
       "      <th>152</th>\n",
       "      <th>153</th>\n",
       "      <th>154</th>\n",
       "      <th>155</th>\n",
       "      <th>156</th>\n",
       "      <th>157</th>\n",
       "      <th>158</th>\n",
       "      <th>159</th>\n",
       "      <th>160</th>\n",
       "    </tr>\n",
       "  </thead>\n",
       "  <tbody>\n",
       "    <tr>\n",
       "      <th>0</th>\n",
       "      <td>20150405</td>\n",
       "      <td>0</td>\n",
       "      <td>Sun</td>\n",
       "      <td>SLN</td>\n",
       "      <td>NL</td>\n",
       "      <td>1</td>\n",
       "      <td>CHN</td>\n",
       "      <td>NL</td>\n",
       "      <td>1</td>\n",
       "      <td>3</td>\n",
       "      <td>...</td>\n",
       "      <td>David Ross</td>\n",
       "      <td>2</td>\n",
       "      <td>lestj001</td>\n",
       "      <td>Jon Lester</td>\n",
       "      <td>1</td>\n",
       "      <td>lastt001</td>\n",
       "      <td>Tommy La Stella</td>\n",
       "      <td>4</td>\n",
       "      <td>NaN</td>\n",
       "      <td>Y</td>\n",
       "    </tr>\n",
       "    <tr>\n",
       "      <th>1</th>\n",
       "      <td>20150406</td>\n",
       "      <td>0</td>\n",
       "      <td>Mon</td>\n",
       "      <td>MIN</td>\n",
       "      <td>AL</td>\n",
       "      <td>1</td>\n",
       "      <td>DET</td>\n",
       "      <td>AL</td>\n",
       "      <td>1</td>\n",
       "      <td>0</td>\n",
       "      <td>...</td>\n",
       "      <td>Nick Castellanos</td>\n",
       "      <td>5</td>\n",
       "      <td>avila001</td>\n",
       "      <td>Alex Avila</td>\n",
       "      <td>2</td>\n",
       "      <td>iglej001</td>\n",
       "      <td>Jose Iglesias</td>\n",
       "      <td>6</td>\n",
       "      <td>NaN</td>\n",
       "      <td>Y</td>\n",
       "    </tr>\n",
       "    <tr>\n",
       "      <th>2</th>\n",
       "      <td>20150406</td>\n",
       "      <td>0</td>\n",
       "      <td>Mon</td>\n",
       "      <td>CLE</td>\n",
       "      <td>AL</td>\n",
       "      <td>1</td>\n",
       "      <td>HOU</td>\n",
       "      <td>AL</td>\n",
       "      <td>1</td>\n",
       "      <td>0</td>\n",
       "      <td>...</td>\n",
       "      <td>Jed Lowrie</td>\n",
       "      <td>6</td>\n",
       "      <td>rasmc001</td>\n",
       "      <td>Colby Rasmus</td>\n",
       "      <td>7</td>\n",
       "      <td>marij002</td>\n",
       "      <td>Jake Marisnick</td>\n",
       "      <td>8</td>\n",
       "      <td>NaN</td>\n",
       "      <td>Y</td>\n",
       "    </tr>\n",
       "    <tr>\n",
       "      <th>3</th>\n",
       "      <td>20150406</td>\n",
       "      <td>0</td>\n",
       "      <td>Mon</td>\n",
       "      <td>CHA</td>\n",
       "      <td>AL</td>\n",
       "      <td>1</td>\n",
       "      <td>KCA</td>\n",
       "      <td>AL</td>\n",
       "      <td>1</td>\n",
       "      <td>1</td>\n",
       "      <td>...</td>\n",
       "      <td>Alex Rios</td>\n",
       "      <td>9</td>\n",
       "      <td>peres002</td>\n",
       "      <td>Salvador Perez</td>\n",
       "      <td>2</td>\n",
       "      <td>infao001</td>\n",
       "      <td>Omar Infante</td>\n",
       "      <td>4</td>\n",
       "      <td>NaN</td>\n",
       "      <td>Y</td>\n",
       "    </tr>\n",
       "    <tr>\n",
       "      <th>4</th>\n",
       "      <td>20150406</td>\n",
       "      <td>0</td>\n",
       "      <td>Mon</td>\n",
       "      <td>TOR</td>\n",
       "      <td>AL</td>\n",
       "      <td>1</td>\n",
       "      <td>NYA</td>\n",
       "      <td>AL</td>\n",
       "      <td>1</td>\n",
       "      <td>6</td>\n",
       "      <td>...</td>\n",
       "      <td>Alex Rodriguez</td>\n",
       "      <td>10</td>\n",
       "      <td>drews001</td>\n",
       "      <td>Stephen Drew</td>\n",
       "      <td>4</td>\n",
       "      <td>gregd001</td>\n",
       "      <td>Didi Gregorius</td>\n",
       "      <td>6</td>\n",
       "      <td>NaN</td>\n",
       "      <td>Y</td>\n",
       "    </tr>\n",
       "  </tbody>\n",
       "</table>\n",
       "<p>5 rows × 161 columns</p>\n",
       "</div>"
      ],
      "text/plain": [
       "          0  1 DayOfWeek Visiting Team VisitorTeam League  5 Home Team  \\\n",
       "0  20150405  0       Sun           SLN                 NL  1       CHN   \n",
       "1  20150406  0       Mon           MIN                 AL  1       DET   \n",
       "2  20150406  0       Mon           CLE                 AL  1       HOU   \n",
       "3  20150406  0       Mon           CHA                 AL  1       KCA   \n",
       "4  20150406  0       Mon           TOR                 AL  1       NYA   \n",
       "\n",
       "  HomeTeam League  8  Runs Visitor ...               151  152       153  \\\n",
       "0              NL  1             3 ...        David Ross    2  lestj001   \n",
       "1              AL  1             0 ...  Nick Castellanos    5  avila001   \n",
       "2              AL  1             0 ...        Jed Lowrie    6  rasmc001   \n",
       "3              AL  1             1 ...         Alex Rios    9  peres002   \n",
       "4              AL  1             6 ...    Alex Rodriguez   10  drews001   \n",
       "\n",
       "              154  155       156              157  158  159 160  \n",
       "0      Jon Lester    1  lastt001  Tommy La Stella    4  NaN   Y  \n",
       "1      Alex Avila    2  iglej001    Jose Iglesias    6  NaN   Y  \n",
       "2    Colby Rasmus    7  marij002   Jake Marisnick    8  NaN   Y  \n",
       "3  Salvador Perez    2  infao001     Omar Infante    4  NaN   Y  \n",
       "4    Stephen Drew    4  gregd001   Didi Gregorius    6  NaN   Y  \n",
       "\n",
       "[5 rows x 161 columns]"
      ]
     },
     "execution_count": 14,
     "metadata": {},
     "output_type": "execute_result"
    }
   ],
   "source": [
    "input_df.head()"
   ]
  },
  {
   "cell_type": "code",
   "execution_count": 17,
   "metadata": {},
   "outputs": [],
   "source": [
    "# Cretae 2 New Columns to indicate whether the home team or visting team won\n",
    "# Input Current DataFrame\n",
    "# Output Ammended DataFrame\n",
    "\n",
    "def add_new_cols(input_df):\n",
    "    input_df['Home Win'] = (input_df['Runs Home'] > input_df['Runs Visitor'])\n",
    "    input_df['Visitor Win'] = (input_df['Runs Visitor'] > input_df['Runs Home'])\n",
    "    return input_df"
   ]
  },
  {
   "cell_type": "code",
   "execution_count": 18,
   "metadata": {},
   "outputs": [],
   "source": [
    "# add new columns to input_df\n",
    "input_df = add_new_cols(input_df)"
   ]
  },
  {
   "cell_type": "code",
   "execution_count": 19,
   "metadata": {},
   "outputs": [
    {
     "data": {
      "text/html": [
       "<div>\n",
       "<style scoped>\n",
       "    .dataframe tbody tr th:only-of-type {\n",
       "        vertical-align: middle;\n",
       "    }\n",
       "\n",
       "    .dataframe tbody tr th {\n",
       "        vertical-align: top;\n",
       "    }\n",
       "\n",
       "    .dataframe thead th {\n",
       "        text-align: right;\n",
       "    }\n",
       "</style>\n",
       "<table border=\"1\" class=\"dataframe\">\n",
       "  <thead>\n",
       "    <tr style=\"text-align: right;\">\n",
       "      <th></th>\n",
       "      <th>0</th>\n",
       "      <th>1</th>\n",
       "      <th>DayOfWeek</th>\n",
       "      <th>Visiting Team</th>\n",
       "      <th>VisitorTeam League</th>\n",
       "      <th>5</th>\n",
       "      <th>Home Team</th>\n",
       "      <th>HomeTeam League</th>\n",
       "      <th>8</th>\n",
       "      <th>Runs Visitor</th>\n",
       "      <th>...</th>\n",
       "      <th>153</th>\n",
       "      <th>154</th>\n",
       "      <th>155</th>\n",
       "      <th>156</th>\n",
       "      <th>157</th>\n",
       "      <th>158</th>\n",
       "      <th>159</th>\n",
       "      <th>160</th>\n",
       "      <th>Home Win</th>\n",
       "      <th>Visitor Win</th>\n",
       "    </tr>\n",
       "  </thead>\n",
       "  <tbody>\n",
       "    <tr>\n",
       "      <th>0</th>\n",
       "      <td>20150405</td>\n",
       "      <td>0</td>\n",
       "      <td>Sun</td>\n",
       "      <td>SLN</td>\n",
       "      <td>NL</td>\n",
       "      <td>1</td>\n",
       "      <td>CHN</td>\n",
       "      <td>NL</td>\n",
       "      <td>1</td>\n",
       "      <td>3</td>\n",
       "      <td>...</td>\n",
       "      <td>lestj001</td>\n",
       "      <td>Jon Lester</td>\n",
       "      <td>1</td>\n",
       "      <td>lastt001</td>\n",
       "      <td>Tommy La Stella</td>\n",
       "      <td>4</td>\n",
       "      <td>NaN</td>\n",
       "      <td>Y</td>\n",
       "      <td>False</td>\n",
       "      <td>True</td>\n",
       "    </tr>\n",
       "    <tr>\n",
       "      <th>1</th>\n",
       "      <td>20150406</td>\n",
       "      <td>0</td>\n",
       "      <td>Mon</td>\n",
       "      <td>MIN</td>\n",
       "      <td>AL</td>\n",
       "      <td>1</td>\n",
       "      <td>DET</td>\n",
       "      <td>AL</td>\n",
       "      <td>1</td>\n",
       "      <td>0</td>\n",
       "      <td>...</td>\n",
       "      <td>avila001</td>\n",
       "      <td>Alex Avila</td>\n",
       "      <td>2</td>\n",
       "      <td>iglej001</td>\n",
       "      <td>Jose Iglesias</td>\n",
       "      <td>6</td>\n",
       "      <td>NaN</td>\n",
       "      <td>Y</td>\n",
       "      <td>True</td>\n",
       "      <td>False</td>\n",
       "    </tr>\n",
       "    <tr>\n",
       "      <th>2</th>\n",
       "      <td>20150406</td>\n",
       "      <td>0</td>\n",
       "      <td>Mon</td>\n",
       "      <td>CLE</td>\n",
       "      <td>AL</td>\n",
       "      <td>1</td>\n",
       "      <td>HOU</td>\n",
       "      <td>AL</td>\n",
       "      <td>1</td>\n",
       "      <td>0</td>\n",
       "      <td>...</td>\n",
       "      <td>rasmc001</td>\n",
       "      <td>Colby Rasmus</td>\n",
       "      <td>7</td>\n",
       "      <td>marij002</td>\n",
       "      <td>Jake Marisnick</td>\n",
       "      <td>8</td>\n",
       "      <td>NaN</td>\n",
       "      <td>Y</td>\n",
       "      <td>True</td>\n",
       "      <td>False</td>\n",
       "    </tr>\n",
       "    <tr>\n",
       "      <th>3</th>\n",
       "      <td>20150406</td>\n",
       "      <td>0</td>\n",
       "      <td>Mon</td>\n",
       "      <td>CHA</td>\n",
       "      <td>AL</td>\n",
       "      <td>1</td>\n",
       "      <td>KCA</td>\n",
       "      <td>AL</td>\n",
       "      <td>1</td>\n",
       "      <td>1</td>\n",
       "      <td>...</td>\n",
       "      <td>peres002</td>\n",
       "      <td>Salvador Perez</td>\n",
       "      <td>2</td>\n",
       "      <td>infao001</td>\n",
       "      <td>Omar Infante</td>\n",
       "      <td>4</td>\n",
       "      <td>NaN</td>\n",
       "      <td>Y</td>\n",
       "      <td>True</td>\n",
       "      <td>False</td>\n",
       "    </tr>\n",
       "    <tr>\n",
       "      <th>4</th>\n",
       "      <td>20150406</td>\n",
       "      <td>0</td>\n",
       "      <td>Mon</td>\n",
       "      <td>TOR</td>\n",
       "      <td>AL</td>\n",
       "      <td>1</td>\n",
       "      <td>NYA</td>\n",
       "      <td>AL</td>\n",
       "      <td>1</td>\n",
       "      <td>6</td>\n",
       "      <td>...</td>\n",
       "      <td>drews001</td>\n",
       "      <td>Stephen Drew</td>\n",
       "      <td>4</td>\n",
       "      <td>gregd001</td>\n",
       "      <td>Didi Gregorius</td>\n",
       "      <td>6</td>\n",
       "      <td>NaN</td>\n",
       "      <td>Y</td>\n",
       "      <td>False</td>\n",
       "      <td>True</td>\n",
       "    </tr>\n",
       "  </tbody>\n",
       "</table>\n",
       "<p>5 rows × 163 columns</p>\n",
       "</div>"
      ],
      "text/plain": [
       "          0  1 DayOfWeek Visiting Team VisitorTeam League  5 Home Team  \\\n",
       "0  20150405  0       Sun           SLN                 NL  1       CHN   \n",
       "1  20150406  0       Mon           MIN                 AL  1       DET   \n",
       "2  20150406  0       Mon           CLE                 AL  1       HOU   \n",
       "3  20150406  0       Mon           CHA                 AL  1       KCA   \n",
       "4  20150406  0       Mon           TOR                 AL  1       NYA   \n",
       "\n",
       "  HomeTeam League  8  Runs Visitor     ...           153             154 155  \\\n",
       "0              NL  1             3     ...      lestj001      Jon Lester   1   \n",
       "1              AL  1             0     ...      avila001      Alex Avila   2   \n",
       "2              AL  1             0     ...      rasmc001    Colby Rasmus   7   \n",
       "3              AL  1             1     ...      peres002  Salvador Perez   2   \n",
       "4              AL  1             6     ...      drews001    Stephen Drew   4   \n",
       "\n",
       "        156              157 158  159  160  Home Win Visitor Win  \n",
       "0  lastt001  Tommy La Stella   4  NaN    Y     False        True  \n",
       "1  iglej001    Jose Iglesias   6  NaN    Y      True       False  \n",
       "2  marij002   Jake Marisnick   8  NaN    Y      True       False  \n",
       "3  infao001     Omar Infante   4  NaN    Y      True       False  \n",
       "4  gregd001   Didi Gregorius   6  NaN    Y     False        True  \n",
       "\n",
       "[5 rows x 163 columns]"
      ]
     },
     "execution_count": 19,
     "metadata": {},
     "output_type": "execute_result"
    }
   ],
   "source": [
    "# Review dataframe and inspect new columns\n",
    "input_df.head()"
   ]
  },
  {
   "cell_type": "code",
   "execution_count": 23,
   "metadata": {},
   "outputs": [],
   "source": [
    "# Create function to Summarize the Game log data set for analysis\n",
    "# Using the group by method create a new variable \"home_group\" with an aggregate dataframe by Home Team \n",
    "# \n",
    "\n",
    "def proc_home_team_data(input_df):\n",
    "    # group by home team\n",
    "    home_group = input_df.groupby(input_df['Home Team'])\n",
    "    \n",
    "    #Summarize Stat Data\n",
    "    home_df = home_group[['Runs Visitor', 'Runs Home', 'Home Win']].apply(sum)\n",
    "    home_df['Home Games'] = home_group['Home Win'].count()\n",
    "    home_df.rename(columns = {'Runs Visitor':'Runs by Visitor', 'Runs Home':'Runs at Home', \n",
    "                              'Home Win':'Wins at Home'}, inplace=True)\n",
    "    home_df['RD at Home'] = home_df['Runs at Home'] - home_df['Runs by Visitor']\n",
    "    home_df.index.rename('Team', inplace=True)\n",
    "    home_df.reset_index(inplace=True)\n",
    "    \n",
    "    return home_df"
   ]
  },
  {
   "cell_type": "code",
   "execution_count": 24,
   "metadata": {},
   "outputs": [
    {
     "data": {
      "text/html": [
       "<div>\n",
       "<style scoped>\n",
       "    .dataframe tbody tr th:only-of-type {\n",
       "        vertical-align: middle;\n",
       "    }\n",
       "\n",
       "    .dataframe tbody tr th {\n",
       "        vertical-align: top;\n",
       "    }\n",
       "\n",
       "    .dataframe thead th {\n",
       "        text-align: right;\n",
       "    }\n",
       "</style>\n",
       "<table border=\"1\" class=\"dataframe\">\n",
       "  <thead>\n",
       "    <tr style=\"text-align: right;\">\n",
       "      <th></th>\n",
       "      <th>Team</th>\n",
       "      <th>Runs by Visitor</th>\n",
       "      <th>Runs at Home</th>\n",
       "      <th>Wins at Home</th>\n",
       "      <th>Home Games</th>\n",
       "      <th>RD at Home</th>\n",
       "    </tr>\n",
       "  </thead>\n",
       "  <tbody>\n",
       "    <tr>\n",
       "      <th>0</th>\n",
       "      <td>ANA</td>\n",
       "      <td>298.0</td>\n",
       "      <td>320.0</td>\n",
       "      <td>49.0</td>\n",
       "      <td>81</td>\n",
       "      <td>22.0</td>\n",
       "    </tr>\n",
       "    <tr>\n",
       "      <th>1</th>\n",
       "      <td>ARI</td>\n",
       "      <td>372.0</td>\n",
       "      <td>366.0</td>\n",
       "      <td>39.0</td>\n",
       "      <td>81</td>\n",
       "      <td>-6.0</td>\n",
       "    </tr>\n",
       "    <tr>\n",
       "      <th>2</th>\n",
       "      <td>ATL</td>\n",
       "      <td>359.0</td>\n",
       "      <td>286.0</td>\n",
       "      <td>42.0</td>\n",
       "      <td>81</td>\n",
       "      <td>-73.0</td>\n",
       "    </tr>\n",
       "    <tr>\n",
       "      <th>3</th>\n",
       "      <td>BAL</td>\n",
       "      <td>353.0</td>\n",
       "      <td>408.0</td>\n",
       "      <td>49.0</td>\n",
       "      <td>81</td>\n",
       "      <td>55.0</td>\n",
       "    </tr>\n",
       "    <tr>\n",
       "      <th>4</th>\n",
       "      <td>BOS</td>\n",
       "      <td>383.0</td>\n",
       "      <td>433.0</td>\n",
       "      <td>43.0</td>\n",
       "      <td>81</td>\n",
       "      <td>50.0</td>\n",
       "    </tr>\n",
       "  </tbody>\n",
       "</table>\n",
       "</div>"
      ],
      "text/plain": [
       "  Team  Runs by Visitor  Runs at Home  Wins at Home  Home Games  RD at Home\n",
       "0  ANA            298.0         320.0          49.0          81        22.0\n",
       "1  ARI            372.0         366.0          39.0          81        -6.0\n",
       "2  ATL            359.0         286.0          42.0          81       -73.0\n",
       "3  BAL            353.0         408.0          49.0          81        55.0\n",
       "4  BOS            383.0         433.0          43.0          81        50.0"
      ]
     },
     "execution_count": 24,
     "metadata": {},
     "output_type": "execute_result"
    }
   ],
   "source": [
    "home_df = proc_home_team_data(input_df)\n",
    "\n",
    "home_df.head()"
   ]
  },
  {
   "cell_type": "code",
   "execution_count": 25,
   "metadata": {},
   "outputs": [],
   "source": [
    "def proc_visiting_team_data(input_df):\n",
    "    # Group by Visiting Team\n",
    "    visit_group = input_df.groupby(input_df['Visiting Team'])\n",
    "    \n",
    "    #Summarize Stat Data \n",
    "    visit_df = visit_group[['Runs Visitor', 'Runs Home', 'Visitor Win']].apply(sum)\n",
    "    visit_df['Road Games'] = visit_group['Visitor Win'].count()\n",
    "    visit_df.rename(columns = {'Runs Visitor':'Runs as Visitor', 'Runs Home':'Runs by Home', \n",
    "                               'Visitor Win':'Wins as Visitor'}, inplace=True)\n",
    "    visit_df['RD as Visitor'] = visit_df['Runs as Visitor'] - visit_df['Runs by Home']\n",
    "    visit_df.index.rename('Team', inplace=True)\n",
    "    visit_df.reset_index(inplace=True)\n",
    "    \n",
    "    return visit_df"
   ]
  },
  {
   "cell_type": "code",
   "execution_count": 26,
   "metadata": {},
   "outputs": [
    {
     "data": {
      "text/html": [
       "<div>\n",
       "<style scoped>\n",
       "    .dataframe tbody tr th:only-of-type {\n",
       "        vertical-align: middle;\n",
       "    }\n",
       "\n",
       "    .dataframe tbody tr th {\n",
       "        vertical-align: top;\n",
       "    }\n",
       "\n",
       "    .dataframe thead th {\n",
       "        text-align: right;\n",
       "    }\n",
       "</style>\n",
       "<table border=\"1\" class=\"dataframe\">\n",
       "  <thead>\n",
       "    <tr style=\"text-align: right;\">\n",
       "      <th></th>\n",
       "      <th>Team</th>\n",
       "      <th>Runs as Visitor</th>\n",
       "      <th>Runs by Home</th>\n",
       "      <th>Wins as Visitor</th>\n",
       "      <th>Road Games</th>\n",
       "      <th>RD as Visitor</th>\n",
       "    </tr>\n",
       "  </thead>\n",
       "  <tbody>\n",
       "    <tr>\n",
       "      <th>0</th>\n",
       "      <td>ANA</td>\n",
       "      <td>341.0</td>\n",
       "      <td>377.0</td>\n",
       "      <td>36.0</td>\n",
       "      <td>81</td>\n",
       "      <td>-36.0</td>\n",
       "    </tr>\n",
       "    <tr>\n",
       "      <th>1</th>\n",
       "      <td>ARI</td>\n",
       "      <td>354.0</td>\n",
       "      <td>341.0</td>\n",
       "      <td>40.0</td>\n",
       "      <td>81</td>\n",
       "      <td>13.0</td>\n",
       "    </tr>\n",
       "    <tr>\n",
       "      <th>2</th>\n",
       "      <td>ATL</td>\n",
       "      <td>287.0</td>\n",
       "      <td>401.0</td>\n",
       "      <td>25.0</td>\n",
       "      <td>81</td>\n",
       "      <td>-114.0</td>\n",
       "    </tr>\n",
       "    <tr>\n",
       "      <th>3</th>\n",
       "      <td>BAL</td>\n",
       "      <td>305.0</td>\n",
       "      <td>340.0</td>\n",
       "      <td>32.0</td>\n",
       "      <td>81</td>\n",
       "      <td>-35.0</td>\n",
       "    </tr>\n",
       "    <tr>\n",
       "      <th>4</th>\n",
       "      <td>BOS</td>\n",
       "      <td>315.0</td>\n",
       "      <td>370.0</td>\n",
       "      <td>35.0</td>\n",
       "      <td>81</td>\n",
       "      <td>-55.0</td>\n",
       "    </tr>\n",
       "  </tbody>\n",
       "</table>\n",
       "</div>"
      ],
      "text/plain": [
       "  Team  Runs as Visitor  Runs by Home  Wins as Visitor  Road Games  \\\n",
       "0  ANA            341.0         377.0             36.0          81   \n",
       "1  ARI            354.0         341.0             40.0          81   \n",
       "2  ATL            287.0         401.0             25.0          81   \n",
       "3  BAL            305.0         340.0             32.0          81   \n",
       "4  BOS            315.0         370.0             35.0          81   \n",
       "\n",
       "   RD as Visitor  \n",
       "0          -36.0  \n",
       "1           13.0  \n",
       "2         -114.0  \n",
       "3          -35.0  \n",
       "4          -55.0  "
      ]
     },
     "execution_count": 26,
     "metadata": {},
     "output_type": "execute_result"
    }
   ],
   "source": [
    "visit_df = proc_visiting_team_data(input_df)\n",
    "\n",
    "visit_df.head()"
   ]
  },
  {
   "cell_type": "code",
   "execution_count": 30,
   "metadata": {},
   "outputs": [],
   "source": [
    "def merge_data_frames(home_df, visit_df):\n",
    "    # Create 'Y' response and 'X' explanatory variables\n",
    "    overall_df = home_df.merge(visit_df, how='outer', left_on='Team', right_on='Team')\n",
    "    overall_df['RD'] = overall_df['RD at Home'] + overall_df['RD as Visitor']\n",
    "    overall_df['Win Pct'] = (overall_df['Wins at Home']+overall_df['Wins as Visitor'])/(overall_df['Home Games']+overall_df['Road Games'])\n",
    "    \n",
    "    return overall_df"
   ]
  },
  {
   "cell_type": "code",
   "execution_count": 31,
   "metadata": {},
   "outputs": [],
   "source": [
    "overall_df = merge_data_frames(home_df, visit_df)"
   ]
  },
  {
   "cell_type": "code",
   "execution_count": 32,
   "metadata": {},
   "outputs": [
    {
     "data": {
      "text/html": [
       "<div>\n",
       "<style scoped>\n",
       "    .dataframe tbody tr th:only-of-type {\n",
       "        vertical-align: middle;\n",
       "    }\n",
       "\n",
       "    .dataframe tbody tr th {\n",
       "        vertical-align: top;\n",
       "    }\n",
       "\n",
       "    .dataframe thead th {\n",
       "        text-align: right;\n",
       "    }\n",
       "</style>\n",
       "<table border=\"1\" class=\"dataframe\">\n",
       "  <thead>\n",
       "    <tr style=\"text-align: right;\">\n",
       "      <th></th>\n",
       "      <th>Team</th>\n",
       "      <th>Runs by Visitor</th>\n",
       "      <th>Runs at Home</th>\n",
       "      <th>Wins at Home</th>\n",
       "      <th>Home Games</th>\n",
       "      <th>RD at Home</th>\n",
       "      <th>Runs as Visitor</th>\n",
       "      <th>Runs by Home</th>\n",
       "      <th>Wins as Visitor</th>\n",
       "      <th>Road Games</th>\n",
       "      <th>RD as Visitor</th>\n",
       "      <th>RD</th>\n",
       "      <th>Win Pct</th>\n",
       "    </tr>\n",
       "  </thead>\n",
       "  <tbody>\n",
       "    <tr>\n",
       "      <th>0</th>\n",
       "      <td>ANA</td>\n",
       "      <td>298.0</td>\n",
       "      <td>320.0</td>\n",
       "      <td>49.0</td>\n",
       "      <td>81</td>\n",
       "      <td>22.0</td>\n",
       "      <td>341.0</td>\n",
       "      <td>377.0</td>\n",
       "      <td>36.0</td>\n",
       "      <td>81</td>\n",
       "      <td>-36.0</td>\n",
       "      <td>-14.0</td>\n",
       "      <td>0.524691</td>\n",
       "    </tr>\n",
       "    <tr>\n",
       "      <th>1</th>\n",
       "      <td>ARI</td>\n",
       "      <td>372.0</td>\n",
       "      <td>366.0</td>\n",
       "      <td>39.0</td>\n",
       "      <td>81</td>\n",
       "      <td>-6.0</td>\n",
       "      <td>354.0</td>\n",
       "      <td>341.0</td>\n",
       "      <td>40.0</td>\n",
       "      <td>81</td>\n",
       "      <td>13.0</td>\n",
       "      <td>7.0</td>\n",
       "      <td>0.487654</td>\n",
       "    </tr>\n",
       "    <tr>\n",
       "      <th>2</th>\n",
       "      <td>ATL</td>\n",
       "      <td>359.0</td>\n",
       "      <td>286.0</td>\n",
       "      <td>42.0</td>\n",
       "      <td>81</td>\n",
       "      <td>-73.0</td>\n",
       "      <td>287.0</td>\n",
       "      <td>401.0</td>\n",
       "      <td>25.0</td>\n",
       "      <td>81</td>\n",
       "      <td>-114.0</td>\n",
       "      <td>-187.0</td>\n",
       "      <td>0.413580</td>\n",
       "    </tr>\n",
       "    <tr>\n",
       "      <th>3</th>\n",
       "      <td>BAL</td>\n",
       "      <td>353.0</td>\n",
       "      <td>408.0</td>\n",
       "      <td>49.0</td>\n",
       "      <td>81</td>\n",
       "      <td>55.0</td>\n",
       "      <td>305.0</td>\n",
       "      <td>340.0</td>\n",
       "      <td>32.0</td>\n",
       "      <td>81</td>\n",
       "      <td>-35.0</td>\n",
       "      <td>20.0</td>\n",
       "      <td>0.500000</td>\n",
       "    </tr>\n",
       "    <tr>\n",
       "      <th>4</th>\n",
       "      <td>BOS</td>\n",
       "      <td>383.0</td>\n",
       "      <td>433.0</td>\n",
       "      <td>43.0</td>\n",
       "      <td>81</td>\n",
       "      <td>50.0</td>\n",
       "      <td>315.0</td>\n",
       "      <td>370.0</td>\n",
       "      <td>35.0</td>\n",
       "      <td>81</td>\n",
       "      <td>-55.0</td>\n",
       "      <td>-5.0</td>\n",
       "      <td>0.481481</td>\n",
       "    </tr>\n",
       "  </tbody>\n",
       "</table>\n",
       "</div>"
      ],
      "text/plain": [
       "  Team  Runs by Visitor  Runs at Home  Wins at Home  Home Games  RD at Home  \\\n",
       "0  ANA            298.0         320.0          49.0          81        22.0   \n",
       "1  ARI            372.0         366.0          39.0          81        -6.0   \n",
       "2  ATL            359.0         286.0          42.0          81       -73.0   \n",
       "3  BAL            353.0         408.0          49.0          81        55.0   \n",
       "4  BOS            383.0         433.0          43.0          81        50.0   \n",
       "\n",
       "   Runs as Visitor  Runs by Home  Wins as Visitor  Road Games  RD as Visitor  \\\n",
       "0            341.0         377.0             36.0          81          -36.0   \n",
       "1            354.0         341.0             40.0          81           13.0   \n",
       "2            287.0         401.0             25.0          81         -114.0   \n",
       "3            305.0         340.0             32.0          81          -35.0   \n",
       "4            315.0         370.0             35.0          81          -55.0   \n",
       "\n",
       "      RD   Win Pct  \n",
       "0  -14.0  0.524691  \n",
       "1    7.0  0.487654  \n",
       "2 -187.0  0.413580  \n",
       "3   20.0  0.500000  \n",
       "4   -5.0  0.481481  "
      ]
     },
     "execution_count": 32,
     "metadata": {},
     "output_type": "execute_result"
    }
   ],
   "source": [
    "overall_df.head()"
   ]
  },
  {
   "cell_type": "code",
   "execution_count": 52,
   "metadata": {},
   "outputs": [],
   "source": [
    "# Join all constructed methods for quick processing and compiling of summary data for all Game Logs\n",
    "\n",
    "def extract_linear_reg_inputs(input_df):\n",
    "    # Rename Columns\n",
    "    input_df = rename_col(input_df)\n",
    "    \n",
    "    # Add new columns\n",
    "    input_df = add_new_cols(input_df)\n",
    "    \n",
    "    # Group and process data by home team\n",
    "    home_df = proc_home_team_data(input_df)\n",
    "    \n",
    "    # Group and process data by visiting team\n",
    "    visit_df = proc_visiting_team_data(input_df)\n",
    "    \n",
    "    # Merge home and visitor dataframes\n",
    "    overall_df = merge_data_frames(home_df, visit_df)\n",
    "    \n",
    "    return overall_df\n"
   ]
  },
  {
   "cell_type": "code",
   "execution_count": 56,
   "metadata": {},
   "outputs": [],
   "source": [
    "# Collecting and Building the trainging set data. (2011-2015)\n",
    "\n",
    "train_run_diff = np.empty([0,1])\n",
    "train_win_pct = np.empty([0,1])\n",
    "\n",
    "# loop through files to build complete dataframe of identified files\n",
    "\n",
    "for year in range(2011, 2016):\n",
    "    # Construct log of file data\n",
    "    log_file = 'GL'+str(year)+'.TXT'\n",
    "    \n",
    "    # read logged file data into dataframe\n",
    "    df = pd.read_table(log_file, sep=',', header=None)\n",
    "    \n",
    "    # Extract relevant data into another dataframe\n",
    "    df_proc = extract_linear_reg_inputs(df)\n",
    "    \n",
    "    # add to training set\n",
    "    train_run_diff = np.vstack([train_run_diff, df_proc['RD'].values.reshape([-1,1])])\n",
    "    train_win_pct = np.vstack([train_win_pct, df_proc['Win Pct'].values.reshape([-1,1])])\n",
    "    "
   ]
  },
  {
   "cell_type": "code",
   "execution_count": 71,
   "metadata": {},
   "outputs": [
    {
     "data": {
      "text/html": [
       "<div>\n",
       "<style scoped>\n",
       "    .dataframe tbody tr th:only-of-type {\n",
       "        vertical-align: middle;\n",
       "    }\n",
       "\n",
       "    .dataframe tbody tr th {\n",
       "        vertical-align: top;\n",
       "    }\n",
       "\n",
       "    .dataframe thead th {\n",
       "        text-align: right;\n",
       "    }\n",
       "</style>\n",
       "<table border=\"1\" class=\"dataframe\">\n",
       "  <thead>\n",
       "    <tr style=\"text-align: right;\">\n",
       "      <th></th>\n",
       "      <th>Team</th>\n",
       "      <th>Runs by Visitor</th>\n",
       "      <th>Runs at Home</th>\n",
       "      <th>Wins at Home</th>\n",
       "      <th>Home Games</th>\n",
       "      <th>RD at Home</th>\n",
       "      <th>Runs as Visitor</th>\n",
       "      <th>Runs by Home</th>\n",
       "      <th>Wins as Visitor</th>\n",
       "      <th>Road Games</th>\n",
       "      <th>RD as Visitor</th>\n",
       "      <th>RD</th>\n",
       "      <th>Win Pct</th>\n",
       "    </tr>\n",
       "  </thead>\n",
       "  <tbody>\n",
       "    <tr>\n",
       "      <th>0</th>\n",
       "      <td>ANA</td>\n",
       "      <td>298.0</td>\n",
       "      <td>320.0</td>\n",
       "      <td>49.0</td>\n",
       "      <td>81</td>\n",
       "      <td>22.0</td>\n",
       "      <td>341.0</td>\n",
       "      <td>377.0</td>\n",
       "      <td>36.0</td>\n",
       "      <td>81</td>\n",
       "      <td>-36.0</td>\n",
       "      <td>-14.0</td>\n",
       "      <td>0.524691</td>\n",
       "    </tr>\n",
       "    <tr>\n",
       "      <th>1</th>\n",
       "      <td>ARI</td>\n",
       "      <td>372.0</td>\n",
       "      <td>366.0</td>\n",
       "      <td>39.0</td>\n",
       "      <td>81</td>\n",
       "      <td>-6.0</td>\n",
       "      <td>354.0</td>\n",
       "      <td>341.0</td>\n",
       "      <td>40.0</td>\n",
       "      <td>81</td>\n",
       "      <td>13.0</td>\n",
       "      <td>7.0</td>\n",
       "      <td>0.487654</td>\n",
       "    </tr>\n",
       "    <tr>\n",
       "      <th>2</th>\n",
       "      <td>ATL</td>\n",
       "      <td>359.0</td>\n",
       "      <td>286.0</td>\n",
       "      <td>42.0</td>\n",
       "      <td>81</td>\n",
       "      <td>-73.0</td>\n",
       "      <td>287.0</td>\n",
       "      <td>401.0</td>\n",
       "      <td>25.0</td>\n",
       "      <td>81</td>\n",
       "      <td>-114.0</td>\n",
       "      <td>-187.0</td>\n",
       "      <td>0.413580</td>\n",
       "    </tr>\n",
       "    <tr>\n",
       "      <th>3</th>\n",
       "      <td>BAL</td>\n",
       "      <td>353.0</td>\n",
       "      <td>408.0</td>\n",
       "      <td>49.0</td>\n",
       "      <td>81</td>\n",
       "      <td>55.0</td>\n",
       "      <td>305.0</td>\n",
       "      <td>340.0</td>\n",
       "      <td>32.0</td>\n",
       "      <td>81</td>\n",
       "      <td>-35.0</td>\n",
       "      <td>20.0</td>\n",
       "      <td>0.500000</td>\n",
       "    </tr>\n",
       "    <tr>\n",
       "      <th>4</th>\n",
       "      <td>BOS</td>\n",
       "      <td>383.0</td>\n",
       "      <td>433.0</td>\n",
       "      <td>43.0</td>\n",
       "      <td>81</td>\n",
       "      <td>50.0</td>\n",
       "      <td>315.0</td>\n",
       "      <td>370.0</td>\n",
       "      <td>35.0</td>\n",
       "      <td>81</td>\n",
       "      <td>-55.0</td>\n",
       "      <td>-5.0</td>\n",
       "      <td>0.481481</td>\n",
       "    </tr>\n",
       "  </tbody>\n",
       "</table>\n",
       "</div>"
      ],
      "text/plain": [
       "  Team  Runs by Visitor  Runs at Home  Wins at Home  Home Games  RD at Home  \\\n",
       "0  ANA            298.0         320.0          49.0          81        22.0   \n",
       "1  ARI            372.0         366.0          39.0          81        -6.0   \n",
       "2  ATL            359.0         286.0          42.0          81       -73.0   \n",
       "3  BAL            353.0         408.0          49.0          81        55.0   \n",
       "4  BOS            383.0         433.0          43.0          81        50.0   \n",
       "\n",
       "   Runs as Visitor  Runs by Home  Wins as Visitor  Road Games  RD as Visitor  \\\n",
       "0            341.0         377.0             36.0          81          -36.0   \n",
       "1            354.0         341.0             40.0          81           13.0   \n",
       "2            287.0         401.0             25.0          81         -114.0   \n",
       "3            305.0         340.0             32.0          81          -35.0   \n",
       "4            315.0         370.0             35.0          81          -55.0   \n",
       "\n",
       "      RD   Win Pct  \n",
       "0  -14.0  0.524691  \n",
       "1    7.0  0.487654  \n",
       "2 -187.0  0.413580  \n",
       "3   20.0  0.500000  \n",
       "4   -5.0  0.481481  "
      ]
     },
     "execution_count": 71,
     "metadata": {},
     "output_type": "execute_result"
    }
   ],
   "source": [
    "df_proc.head()"
   ]
  },
  {
   "cell_type": "code",
   "execution_count": 54,
   "metadata": {},
   "outputs": [],
   "source": [
    "lin_regr = linear_model.LinearRegression(fit_intercept=True)"
   ]
  },
  {
   "cell_type": "code",
   "execution_count": 57,
   "metadata": {},
   "outputs": [
    {
     "data": {
      "text/plain": [
       "LinearRegression(copy_X=True, fit_intercept=True, n_jobs=1, normalize=False)"
      ]
     },
     "execution_count": 57,
     "metadata": {},
     "output_type": "execute_result"
    }
   ],
   "source": [
    "lin_regr.fit(train_run_diff, train_win_pct)"
   ]
  },
  {
   "cell_type": "code",
   "execution_count": 75,
   "metadata": {},
   "outputs": [
    {
     "name": "stdout",
     "output_type": "stream",
     "text": [
      "Slope (a) = 0.0006467879497387064  Intercept (b) =  0.4999936726219291\n",
      "R-squared for linear fit =  0.8625081265362202\n"
     ]
    }
   ],
   "source": [
    "# Access and display current model prarmeters\n",
    "print('Slope (a) =', float(lin_regr.coef_), ' Intercept (b) = ', float(lin_regr.intercept_))\n",
    "\n",
    "# Get Regression Score (R-Squared)\n",
    "r_squared = lin_regr.score(train_run_diff, train_win_pct)\n",
    "print('R-squared for linear fit = ', r_squared)"
   ]
  },
  {
   "cell_type": "code",
   "execution_count": 74,
   "metadata": {},
   "outputs": [
    {
     "name": "stdout",
     "output_type": "stream",
     "text": [
      "R-squared for linear fit =  0.8625081265362202\n"
     ]
    }
   ],
   "source": [
    "# Get Regression Score (R-Squared)\n",
    "r_squared = lin_regr.score(train_run_diff, train_win_pct)\n",
    "print('R-squared for linear fit = ', r_squared)"
   ]
  },
  {
   "cell_type": "code",
   "execution_count": 77,
   "metadata": {},
   "outputs": [],
   "source": [
    "x_ax = np.array(range(int(np.min(train_run_diff)), int(np.max(train_run_diff)))).reshape(-1,1)\n",
    "y_ax = lin_regr.coef_ * x_ax + lin_regr.intercept_"
   ]
  },
  {
   "cell_type": "code",
   "execution_count": 89,
   "metadata": {},
   "outputs": [
    {
     "data": {
      "image/png": "[encoded data removed]",
      "text/plain": [
       "<Figure size 432x288 with 1 Axes>"
      ]
     },
     "metadata": {
      "needs_background": "light"
     },
     "output_type": "display_data"
    }
   ],
   "source": [
    "plt.plot(train_run_diff, train_win_pct, 'bo', label='training_data')\n",
    "plt.plot(x_ax, y_ax, 'r', label='model_fit')\n",
    "plt.ylim([0.30, 0.65])\n",
    "plt.plot([-300, 300], [0.5, 0.5], 'k--')\n",
    "plt.plot([0,0], [0.30, 0.65], 'k--')\n",
    "plt.xlabel('Run Differential')\n",
    "plt.ylabel('Win Percentage')\n",
    "plt.legend(loc='lower right')\n",
    "plt.show()"
   ]
  },
  {
   "cell_type": "code",
   "execution_count": 92,
   "metadata": {},
   "outputs": [],
   "source": [
    "log_fileTest = 'GL2016.TXT'\n",
    "dfTest = pd.read_table(log_fileTest, sep=',', header=None)\n",
    "df_procTest = extract_linear_reg_inputs(dfTest)\n",
    "test_run_diff = df_procTest['RD'].values.reshape([-1,1])\n",
    "test_win_pct = df_procTest['Win Pct'].values.reshape([-1,1])"
   ]
  },
  {
   "cell_type": "code",
   "execution_count": 93,
   "metadata": {},
   "outputs": [],
   "source": [
    "# Predict outcomes using regression model\n",
    "predict_win_pct = lin_regr.predict(test_run_diff)"
   ]
  },
  {
   "cell_type": "code",
   "execution_count": 103,
   "metadata": {},
   "outputs": [
    {
     "name": "stdout",
     "output_type": "stream",
     "text": [
      "Percentage error on test set =  2.096802895798953 %\n",
      "Percentage error on training set =  2.0550910528614867 %\n"
     ]
    }
   ],
   "source": [
    "mean_abs_error_test = np.mean(np.abs(predict_win_pct - test_win_pct))\n",
    "print('Percentage error on test set = ',  100. * mean_abs_error_test, '%')\n",
    "\n",
    "model_fit_train = lin_regr.predict(train_run_diff)\n",
    "mean_abs_error_training = np.mean(np.abs(model_fit_train - train_win_pct))\n",
    "print('Percentage error on training set = ',  100. * mean_abs_error_training, '%')"
   ]
  },
  {
   "cell_type": "code",
   "execution_count": 108,
   "metadata": {},
   "outputs": [
    {
     "data": {
      "image/png": "[encoded data removed]",
      "text/plain": [
       "<Figure size 432x288 with 1 Axes>"
      ]
     },
     "metadata": {
      "needs_background": "light"
     },
     "output_type": "display_data"
    }
   ],
   "source": [
    "plt.plot(test_win_pct, predict_win_pct, 'bo' )\n",
    "plt.plot([0.35,0.7], [0.35, 0.70], 'r')\n",
    "plt.xlabel('Actual Win Percentage')\n",
    "plt.ylabel('Predicted Win Percentage')\n",
    "plt.title('2016 MLB Season')\n",
    "plt.show()"
   ]
  },
  {
   "cell_type": "markdown",
   "metadata": {},
   "source": [
    "### Logistic Linear Regression"
   ]
  },
  {
   "cell_type": "code",
   "execution_count": 120,
   "metadata": {},
   "outputs": [],
   "source": [
    "# Get Training data From 2011-2015\n",
    "\n",
    "train_num_hits = np.empty([0,1])\n",
    "train_win_label = np.empty([0,1])\n",
    "\n",
    "for year in range(2011, 2016):\n",
    "    log_file3 ='GL' + str(year) + '.TXT'\n",
    "    df3 = pd.read_table(log_file3, sep=',', header=None)\n",
    "    df3.rename(columns = {6:'Home Team', 9:'Runs Visitor', 10:'Runs Home', 50:'Hits Home'}, inplace=True)\n",
    "    df3['Home Win'] = (df3['Runs Home'] > df3['Runs Visitor'])\n",
    "    \n",
    "    train_num_hits = np.vstack([train_num_hits, df3['Hits Home'].values.reshape([-1,1])])\n",
    "    train_win_label = np.vstack([train_win_label, df3['Home Win'].values.reshape([-1,1])])"
   ]
  },
  {
   "cell_type": "code",
   "execution_count": 121,
   "metadata": {},
   "outputs": [
    {
     "data": {
      "text/plain": [
       "LogisticRegression(C=1.0, class_weight=None, dual=False, fit_intercept=True,\n",
       "          intercept_scaling=1, max_iter=100, multi_class='ovr', n_jobs=1,\n",
       "          penalty='l2', random_state=None, solver='liblinear', tol=0.0001,\n",
       "          verbose=0, warm_start=False)"
      ]
     },
     "execution_count": 121,
     "metadata": {},
     "output_type": "execute_result"
    }
   ],
   "source": [
    "# Instantiate logistic regression object\n",
    "log_regr3 = linear_model.LogisticRegression()\n",
    "\n",
    "# Fit model to training data\n",
    "log_regr3.fit(train_num_hits, train_win_label.ravel())"
   ]
  },
  {
   "cell_type": "code",
   "execution_count": 123,
   "metadata": {},
   "outputs": [
    {
     "name": "stdout",
     "output_type": "stream",
     "text": [
      "Slope =  0.2405929810253443 Intercept =  -1.8977848365411765\n"
     ]
    }
   ],
   "source": [
    "print('Slope = ', float(log_regr3.coef_), 'Intercept = ', float(log_regr3.intercept_))"
   ]
  },
  {
   "cell_type": "code",
   "execution_count": 124,
   "metadata": {},
   "outputs": [
    {
     "name": "stdout",
     "output_type": "stream",
     "text": [
      "Percentage correct on training set =  64.67198946415343 %\n"
     ]
    }
   ],
   "source": [
    "# check model performance by calling the performance score\n",
    "\n",
    "log_regr3_score_train = log_regr3.score(train_num_hits, train_win_label.ravel())\n",
    "\n",
    "print('Percentage correct on training set = ', 100. * log_regr3_score_train, '%')"
   ]
  },
  {
   "cell_type": "code",
   "execution_count": 127,
   "metadata": {},
   "outputs": [],
   "source": [
    "# Estimate the probability of home team winning the game as a function of number of hits from training data\n",
    "\n",
    "hits_range = np.arange(np.min(train_num_hits), np.max(train_num_hits))\n",
    "prob_est_train_data = np.zeros([len(hits_range), 1])\n",
    "for hits in hits_range:\n",
    "    index1 = np.where(train_num_hits == hits)\n",
    "    if len(index1[0]) > 0:\n",
    "        prob_est_train_data[int(hits - np.min(train_num_hits))] = np.sum(train_win_label[index1[0]])/len(index1[0])"
   ]
  },
  {
   "cell_type": "code",
   "execution_count": 129,
   "metadata": {},
   "outputs": [],
   "source": [
    "# Get the probabilities defined by the model\n",
    "prob_est_model = log_regr3.predict_proba(train_num_hits)"
   ]
  },
  {
   "cell_type": "code",
   "execution_count": 137,
   "metadata": {},
   "outputs": [
    {
     "data": {
      "image/png": "[encoded data removed]",
      "text/plain": [
       "<Figure size 432x288 with 1 Axes>"
      ]
     },
     "metadata": {
      "needs_background": "light"
     },
     "output_type": "display_data"
    }
   ],
   "source": [
    "plt.plot(hits_range, prob_est_train_data, 'bs', label='Training Data')\n",
    "plt.plot(train_num_hits, prob_est_model[:, 1], 'ro', label='Model Fit')\n",
    "plt.plot([0, 30], [0.5,0.5],'k--' )\n",
    "plt.plot([7.89, 7.89], [-0.1, 1.1], 'k--')\n",
    "plt.ylim([-0.1,1.1])\n",
    "plt.legend(loc='lower right')\n",
    "plt.xlabel('Number of Hits')\n",
    "plt.ylabel('Probabilty of win for home team')\n",
    "plt.show()"
   ]
  },
  {
   "cell_type": "code",
   "execution_count": 141,
   "metadata": {},
   "outputs": [],
   "source": [
    "log_file5 = 'GL2016.TXT'\n",
    "df5 = pd.read_table(log_file5, sep=',', header=None)\n",
    "\n",
    "df5.rename(columns = {6:'Home Team', 9:'Runs Visitor', 10:'Runs Home', 50:'Hits Home'}, inplace=True)\n",
    "\n",
    "df5['Home Win'] = (df5['Runs Home'] > df5['Runs Visitor'])\n",
    "\n",
    "test_num_hits = df5['Hits Home'].values.reshape([-1,1])\n",
    "test_win_label = df5['Home Win'].values.reshape([-1,1])"
   ]
  },
  {
   "cell_type": "code",
   "execution_count": 142,
   "metadata": {},
   "outputs": [],
   "source": [
    "# Assign predictions to varible\n",
    "\n",
    "predict_win_label2 = log_regr3.predict(test_num_hits)"
   ]
  },
  {
   "cell_type": "code",
   "execution_count": 143,
   "metadata": {},
   "outputs": [
    {
     "name": "stdout",
     "output_type": "stream",
     "text": [
      "Percentage correct on test set =  66.76276771004942 %\n"
     ]
    }
   ],
   "source": [
    "# calculate prediction score\n",
    "\n",
    "log_regr3_score_test = log_regr3.score(test_num_hits, test_win_label.ravel())\n",
    "print('Percentage correct on test set = ', 100. * log_regr3_score_test, '%')"
   ]
  },
  {
   "cell_type": "code",
   "execution_count": 145,
   "metadata": {},
   "outputs": [],
   "source": [
    "# Evaluate the performanvce of each value of X variable\n",
    "delta = np.abs(test_win_label.ravel() - predict_win_label2.ravel())\n",
    "hits_range = np.arange(np.min(test_num_hits), np.max(test_num_hits))\n",
    "frac_correct = np.zeros([len(hits_range), 1])\n",
    "for hits in hits_range:\n",
    "    index_all = np.where(test_num_hits == hits)\n",
    "    index_correct = np.where((test_num_hits.ravel() == hits) & (delta.ravel() == 0))\n",
    "    frac_correct[int(hits - np.min(test_num_hits))] = len(index_correct[0]) / len(index_all[0])"
   ]
  },
  {
   "cell_type": "code",
   "execution_count": 147,
   "metadata": {},
   "outputs": [
    {
     "data": {
      "image/png": "[encoded data removed]",
      "text/plain": [
       "<Figure size 432x288 with 1 Axes>"
      ]
     },
     "metadata": {
      "needs_background": "light"
     },
     "output_type": "display_data"
    }
   ],
   "source": [
    "# \n",
    "\n",
    "plt.plot(hits_range, frac_correct, 'bo')\n",
    "plt.xlabel('Number of hits by home team')\n",
    "plt.ylabel('Prediction accuracy of model')\n",
    "mid_point = -1. * float(log_regr3.intercept_) / float(log_regr3.coef_)\n",
    "plt.plot([mid_point, mid_point], [0,1], 'r')\n",
    "plt.show()"
   ]
  },
  {
   "cell_type": "code",
   "execution_count": null,
   "metadata": {},
   "outputs": [],
   "source": []
  }
 ],
 "metadata": {
  "kernelspec": {
   "display_name": "Python 3",
   "language": "python",
   "name": "python3"
  },
  "language_info": {
   "codemirror_mode": {
    "name": "ipython",
    "version": 3
   },
   "file_extension": ".py",
   "mimetype": "text/x-python",
   "name": "python",
   "nbconvert_exporter": "python",
   "pygments_lexer": "ipython3",
   "version": "3.7.0"
  }
 },
 "nbformat": 4,
 "nbformat_minor": 2
}
